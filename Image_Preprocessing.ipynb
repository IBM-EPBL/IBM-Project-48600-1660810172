{
  "nbformat": 4,
  "nbformat_minor": 0,
  "metadata": {
    "colab": {
      "provenance": []
    },
    "kernelspec": {
      "name": "python3",
      "display_name": "Python 3"
    },
    "language_info": {
      "name": "python"
    }
  },
  "cells": [
    {
      "cell_type": "code",
      "execution_count": 4,
      "metadata": {
        "id": "usH3FhDycl0j"
      },
      "outputs": [],
      "source": [
        "#Import The ImageDataGenerator Library\n",
        "from keras.preprocessing.image import ImageDataGenerator"
      ]
    }
  ]
}