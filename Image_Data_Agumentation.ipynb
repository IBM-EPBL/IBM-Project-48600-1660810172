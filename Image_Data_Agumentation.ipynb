{
  "nbformat": 4,
  "nbformat_minor": 0,
  "metadata": {
    "colab": {
      "provenance": []
    },
    "kernelspec": {
      "name": "python3",
      "display_name": "Python 3"
    },
    "language_info": {
      "name": "python"
    }
  },
  "cells": [
    {
      "cell_type": "code",
      "execution_count": 6,
      "metadata": {
        "id": "usH3FhDycl0j"
      },
      "outputs": [],
      "source": [
        "#Import The ImageDataGenerator Library\n",
        "from keras.preprocessing.image import ImageDataGenerator"
      ]
    },
    {
      "cell_type": "code",
      "source": [
        "#Image Data Agumentation\n",
        "#setting parameters for image data augumentation to the training data\n",
        "train_datagen= ImageDataGenerator(shear_range=0.2,zoom_range=0.2,horizontal_flip=True)\n",
        "test_datagen=ImageDataGenerator(vertical_flip=True)"
      ],
      "metadata": {
        "id": "2m6EPe7IewRj"
      },
      "execution_count": 24,
      "outputs": []
    }
  ]
}